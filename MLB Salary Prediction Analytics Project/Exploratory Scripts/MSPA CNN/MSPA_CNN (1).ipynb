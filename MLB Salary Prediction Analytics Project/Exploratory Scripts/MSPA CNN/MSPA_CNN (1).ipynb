{
 "cells": [
  {
   "cell_type": "markdown",
   "metadata": {
    "id": "9P3BL4p6YXIK",
    "tags": []
   },
   "source": [
    "# Vamsi Chinta\n",
    "# Machine Learning - Facial Recognition Project\n",
    "# CNN"
   ]
  },
  {
   "cell_type": "code",
   "execution_count": null,
   "metadata": {
    "colab": {
     "base_uri": "https://localhost:8080/",
     "height": 123
    },
    "collapsed": true,
    "id": "2S1uAQexAtfN",
    "jupyter": {
     "outputs_hidden": true
    },
    "outputId": "2ed15171-098e-4859-8a25-5e615a1d425c",
    "tags": []
   },
   "outputs": [
    {
     "name": "stdout",
     "output_type": "stream",
     "text": [
      "Go to this URL in a browser: https://accounts.google.com/o/oauth2/auth?client_id=947318989803-6bn6qk8qdgf4n4g3pfee6491hc0brc4i.apps.googleusercontent.com&redirect_uri=urn%3Aietf%3Awg%3Aoauth%3A2.0%3Aoob&scope=email%20https%3A%2F%2Fwww.googleapis.com%2Fauth%2Fdocs.test%20https%3A%2F%2Fwww.googleapis.com%2Fauth%2Fdrive%20https%3A%2F%2Fwww.googleapis.com%2Fauth%2Fdrive.photos.readonly%20https%3A%2F%2Fwww.googleapis.com%2Fauth%2Fpeopleapi.readonly&response_type=code\n",
      "\n",
      "Enter your authorization code:\n",
      "··········\n",
      "Mounted at /content/gdrive\n"
     ]
    }
   ],
   "source": [
    "from google.colab import drive\n",
    "drive.mount('/content/gdrive')"
   ]
  },
  {
   "cell_type": "code",
   "execution_count": null,
   "metadata": {
    "colab": {
     "base_uri": "https://localhost:8080/",
     "height": 34
    },
    "collapsed": true,
    "id": "qRX1FM-B0ny8",
    "jupyter": {
     "outputs_hidden": true
    },
    "outputId": "a909362e-b516-4df6-c3b8-975a443819af",
    "tags": []
   },
   "outputs": [
    {
     "name": "stdout",
     "output_type": "stream",
     "text": [
      "Once deleted, variables cannot be recovered. Proceed (y/[n])? y\n"
     ]
    }
   ],
   "source": [
    "%reset"
   ]
  },
  {
   "cell_type": "code",
   "execution_count": null,
   "metadata": {
    "colab": {
     "base_uri": "https://localhost:8080/",
     "height": 34
    },
    "id": "klrcZaHsBu0n",
    "outputId": "8133bd73-d789-4db7-e325-67335d852852"
   },
   "outputs": [
    {
     "name": "stderr",
     "output_type": "stream",
     "text": [
      "Using TensorFlow backend.\n"
     ]
    }
   ],
   "source": [
    "from __future__ import print_function\n",
    "import keras\n",
    "from keras import backend as K\n",
    "from keras import layers, models, Sequential\n",
    "from keras.layers import Dense, Conv2D, BatchNormalization, Activation, AveragePooling2D, Input, Flatten\n",
    "from keras.layers import Conv2D as C2D\n",
    "from keras.layers import MaxPooling2D as MP2D\n",
    "from keras.layers import Dropout as DO\n",
    "\n",
    "from keras.layers import LSTM#, sequential\n",
    "from keras.optimizers import Adam\n",
    "from keras.callbacks import ModelCheckpoint, LearningRateScheduler, ReduceLROnPlateau, History\n",
    "from keras.preprocessing.image import ImageDataGenerator as ImgDataGen\n",
    "from keras.preprocessing.image import img_to_array, load_img\n",
    "from keras.regularizers import l2\n",
    "from keras.models import Model\n",
    "#-   -   -   -   -   -   -   -   -   -   -   -   -   -   -   -   -   -   -   -\n",
    "from keras.utils import to_categorical\n",
    "from keras.utils.vis_utils import plot_model\n",
    "from keras.wrappers.scikit_learn import KerasRegressor\n",
    "#-   -   -   -   -   -   -   -   -   -   -   -   -   -   -   -   -   -   -   -\n",
    "from sklearn.model_selection import ShuffleSplit, train_test_split\n",
    "#-   -   -   -   -   -   -   -   -   -   -   -   -   -   -   -   -   -   -   -\n",
    "import glob\n",
    "import cv2\n",
    "#-   -   -   -   -   -   -   -   -   -   -   -   -   -   -   -   -   -   -   -\n",
    "import pydot\n",
    "#-   -   -   -   -   -   -   -   -   -   -   -   -   -   -   -   -   -   -   -\n",
    "import matplotlib.pyplot as plt\n",
    "from matplotlib.pyplot import figure\n",
    "import h5py\n",
    "#-   -   -   -   -   -   -   -   -   -   -   -   -   -   -   -   -   -   -   -\n",
    "import warnings\n",
    "warnings.filterwarnings(\"ignore\")\n",
    "#-   -   -   -   -   -   -   -   -   -   -   -   -   -   -   -   -   -   -   -\n",
    "import os\n",
    "from os import listdir\n",
    "from os.path import isfile, join\n",
    "import pandas as pd\n",
    "import numpy as np\n",
    "from PIL import Image\n",
    "#from keras import metrics"
   ]
  },
  {
   "cell_type": "code",
   "execution_count": null,
   "metadata": {
    "id": "WIBExGwgBx0o",
    "tags": []
   },
   "outputs": [],
   "source": [
    "path \t\t\t= r'/content/gdrive/My Drive/Colab_Datasets'\n",
    "os.chdir(path)\n",
    "\n",
    "seed \t\t\t= 7\n",
    "np.random.seed(seed)\n",
    "\n",
    "save_dir = os.path.join(os.getcwd(), 'NueralNetworksSavedModels')\n",
    "if not os.path.isdir(save_dir):\n",
    "    os.makedirs(save_dir)\n",
    "    \n",
    "RevNo,i \t\t\t= 0,0 \n"
   ]
  },
  {
   "cell_type": "markdown",
   "metadata": {
    "id": "5c3-lngRDYBY"
   },
   "source": [
    "# Programme Code"
   ]
  },
  {
   "cell_type": "code",
   "execution_count": null,
   "metadata": {
    "colab": {
     "base_uri": "https://localhost:8080/",
     "height": 1553
    },
    "id": "cGaEauZWDJ8l",
    "outputId": "6b1160f6-924b-420a-a17a-7497506df97f"
   },
   "outputs": [
    {
     "name": "stdout",
     "output_type": "stream",
     "text": [
      "TrustworthyCnn_Rev 1\n",
      "Found 561 images.\n",
      "Found 140 images.\n",
      "Found 37 images.\n",
      "Epoch 1/10\n",
      "15/15 [==============================] - 3s 174ms/step - loss: 10747.8418 - mean_absolute_error: 28.9775 - acc: 0.0688 - val_loss: 4.6458 - val_mean_absolute_error: 1.7449 - val_acc: 0.0938\n",
      "Epoch 2/10\n",
      "15/15 [==============================] - 7s 483ms/step - loss: 4.4285 - mean_absolute_error: 1.6905 - acc: 0.0919 - val_loss: 3.5738 - val_mean_absolute_error: 1.5083 - val_acc: 0.1481\n",
      "Epoch 3/10\n",
      "15/15 [==============================] - 2s 129ms/step - loss: 4.1003 - mean_absolute_error: 1.6416 - acc: 0.0936 - val_loss: 4.0743 - val_mean_absolute_error: 1.6583 - val_acc: 0.1111\n",
      "Epoch 4/10\n",
      "15/15 [==============================] - 2s 128ms/step - loss: 4.1987 - mean_absolute_error: 1.6506 - acc: 0.0977 - val_loss: 3.6246 - val_mean_absolute_error: 1.5889 - val_acc: 0.0741\n",
      "Epoch 5/10\n",
      "15/15 [==============================] - 7s 494ms/step - loss: 4.1150 - mean_absolute_error: 1.6266 - acc: 0.1036 - val_loss: 4.0859 - val_mean_absolute_error: 1.6801 - val_acc: 0.1111\n",
      "Epoch 6/10\n",
      "15/15 [==============================] - 2s 127ms/step - loss: 3.7112 - mean_absolute_error: 1.5534 - acc: 0.1099 - val_loss: 4.0301 - val_mean_absolute_error: 1.6041 - val_acc: 0.1094\n",
      "Epoch 7/10\n",
      "15/15 [==============================] - 7s 495ms/step - loss: 3.7073 - mean_absolute_error: 1.5537 - acc: 0.1083 - val_loss: 3.6450 - val_mean_absolute_error: 1.5626 - val_acc: 0.0833\n",
      "Epoch 8/10\n",
      "15/15 [==============================] - 2s 129ms/step - loss: 3.8382 - mean_absolute_error: 1.5906 - acc: 0.0710 - val_loss: 3.3847 - val_mean_absolute_error: 1.5261 - val_acc: 0.1389\n",
      "Epoch 9/10\n",
      "15/15 [==============================] - 2s 126ms/step - loss: 3.1723 - mean_absolute_error: 1.4403 - acc: 0.1067 - val_loss: 4.5233 - val_mean_absolute_error: 1.7527 - val_acc: 0.0463\n",
      "Epoch 10/10\n",
      "15/15 [==============================] - 8s 502ms/step - loss: 3.7105 - mean_absolute_error: 1.5621 - acc: 0.0873 - val_loss: 3.7184 - val_mean_absolute_error: 1.6429 - val_acc: 0.1019\n"
     ]
    },
    {
     "data": {
      "image/png": "[encoded data removed]",
      "text/plain": [
       "<Figure size 1224x648 with 1 Axes>"
      ]
     },
     "metadata": {
      "tags": []
     },
     "output_type": "display_data"
    },
    {
     "data": {
      "image/png": "[encoded data removed]",
      "text/plain": [
       "<Figure size 1224x648 with 1 Axes>"
      ]
     },
     "metadata": {
      "tags": []
     },
     "output_type": "display_data"
    }
   ],
   "source": [
    "df \t\t\t        = pd.read_csv('Train_baseball.csv')\n",
    "df['Image_Name'] \t= df['Image_Name'] + '.jpg'\n",
    "test_size \t\t    = 0.05\n",
    "validationSplit \t= 0.2\n",
    "df_trn, df_tst \t\t= train_test_split(df, test_size=test_size, random_state=seed)\n",
    "df_subtrn, df_val \t= train_test_split(df_trn, test_size=validationSplit, random_state=seed)\n",
    "'-------------------------------------------------------------------------------'\n",
    "'Generator Parameters'\n",
    "interpolationMethod \t= 'nearest'                                             #Interpolation method used to resample the image if the target size is different from that of the loaded image.Supported methods are `\"nearest\"`, `\"bilinear\"`, and `\"bicubic\"`\n",
    "'----'\n",
    "dataType \t\t        = 'float32'\n",
    "shuffle \t\t        = True\n",
    "class_mode \t\t        = 'other'\n",
    "inputDirectory     \t    = './TrainPictures'\n",
    "color_mode \t \t        = \"rgb\"\n",
    "has_ext \t\t        = False\n",
    "'Visuals'\n",
    "model_type \t\t        = 'TrustworthyCnn_Rev %d' % (RevNo)\n",
    "model_name \t\t        = 'CNN_%s_model.{epoch:03d}.h5' % model_type\n",
    "print(model_type)\n",
    "monitor \t\t        = 'val_acc'\n",
    "verbose \t\t        = 1\n",
    "save_best_only \t\t    = True\n",
    "\n",
    "filepath \t\t        = os.path.join(save_dir, model_name)\n",
    "\n",
    "################################################################################\n",
    "RevNo \t\t\t    = i + 1\n",
    "outputDirectory    \t= './AugmentedPics/Rev1'\n",
    "'----'\n",
    "test_size \t\t    = 0.05\n",
    "validationSplit \t= 0.2\n",
    "\n",
    "xColName            = 'Image_Name'\n",
    "yColName     \t   \t= 'Trustworthy_Score'\n",
    "\n",
    "img_height         \t= 128\n",
    "img_width          \t= 85\n",
    "img_channels \t\t= 3\n",
    "reshapeSize        \t= (img_width, img_height)\n",
    "input_shape \t\t= (img_width, img_height, img_channels)                      # (batch_size, imageside1, imageside2, channels)\n",
    "\n",
    "A1,A2,A3,A4     \t= 'relu','relu','relu','relu'\n",
    "K1,K2,K3,K4         = (2,2),        (4,4),(3,3),(4,4)\n",
    "S1,S2,S3,S4         = (1,1),        (1,1),(1,1),(1,1)\n",
    "F1,F2,F3,F4         = 32,            32,32,64\n",
    "P1,P2,P3            = (2,2),        (2,2),(2,2)\n",
    "DO1,DO2             = 0.5,0.5\n",
    "U1,U2               = 128,1\n",
    "DA1,DA2             = 'relu','linear'\n",
    "\n",
    "rescale                             = (1./255.)\n",
    "rotation_range                      = 5\n",
    "featurewise_std_normalization \t\t= False \n",
    "samplewise_std_normalization        = True\n",
    "'------------------------------'\n",
    "#zca_epsilon\n",
    "#zca_whitening\n",
    "#width_shift_range\n",
    "#height_shift_range\n",
    "#brightness_range\n",
    "#shear_range\n",
    "#horizontal_flip\n",
    "#vertical_flip\n",
    "\n",
    "'Compiling Parameters'\n",
    "epochs \t\t\t    = 10\n",
    "batch_size \t\t    = 32\n",
    "steps_per_epoch \t= 15                 \n",
    "valStepsPerEpoch \t= 4\n",
    "tstStepsPerEpoch \t= len(df_tst)\n",
    "loss \t\t\t    = 'mean_squared_error'\n",
    "metrics\t            = ['mae', 'acc']                                             # metrics.mae, metrics.acc                                                     \t \t \t\n",
    "optimizer \t\t    = 'adagrad' \n",
    "\n",
    "def cnn1():\n",
    "        cnn = Sequential()\n",
    "        cnn.add(C2D(filters= F1, kernel_size= K1, activation= A1, input_shape=input_shape,strides= S1))\n",
    "        cnn.add(MP2D(pool_size=P1))\n",
    "        cnn.add(DO(DO1))\n",
    "                \n",
    "        #cnn.add(C2D(filters= F2, kernel_size= K2, activation= A2,strides= S2))\n",
    "        #cnn.add(C2D(filters= F3, kernel_size= K3, activation= A3))\n",
    "        #cnn.add(MP2D(pool_size=P2))\n",
    "        #cnn.add(DO(DO2))\n",
    "        \n",
    "        #cnn.add(MP2D(pool_size=P3))\n",
    "\n",
    "        #cnn.add(C2D(filters= F4, kernel_size= K4, activation= A4))\n",
    "                \n",
    "        cnn.add(Flatten())\n",
    "                \n",
    "        cnn.add(Dense(units = U1, activation= DA1))\n",
    "        cnn.add(Dense(units = U2, activation= DA2))\n",
    "                \n",
    "        cnn.compile(loss= loss, optimizer= optimizer,metrics=metrics)\n",
    "        return cnn\n",
    "\n",
    "    \n",
    "    \n",
    "    \n",
    "    \n",
    "    \n",
    "    \n",
    "    \n",
    "    \n",
    "    \n",
    "    \n",
    "    \n",
    "    \n",
    "    \n",
    "    \n",
    "    \n",
    "    \n",
    "    \n",
    "    \n",
    "    \n",
    "    \n",
    "    \n",
    "    \n",
    "    \n",
    "    \n",
    "    \n",
    "    \n",
    "    \n",
    "    \n",
    "    \n",
    "    \n",
    "    \n",
    "    \n",
    "    \n",
    "    \n",
    "    \n",
    "    \n",
    "    \n",
    "    \n",
    "    \n",
    "    \n",
    "    \n",
    "\n",
    "    \n",
    "    \n",
    "    \n",
    "#lr_reducer = ReduceLROnPlateau(factor=np.sqrt(0.1),\n",
    "#                               cooldown=0,\n",
    "#                               patience=5,\n",
    "#                               min_lr=0.5e-6)\n",
    "#checkpoint = ModelCheckpoint(filepath=filepath,\n",
    "#                             monitor = monitor,\n",
    "#                             verbose = verbose,\n",
    "#                             save_best_only = save_best_only)\n",
    "#callbacks = [checkpoint, lr_reducer]    \n",
    "    \n",
    "\n",
    "'#%% configuring data-generators'\n",
    "dg_subtrn \t= ImgDataGen(rescale= rescale,\\\n",
    "\t\t\t             validation_split= validationSplit,\\\n",
    "\t\t\t             dtype = dataType,\\\n",
    "\t\t\t             featurewise_std_normalization = featurewise_std_normalization,\\\n",
    "                         rotation_range = rotation_range)\n",
    "dg_tst  \t= ImgDataGen(rescale= rescale,\\\n",
    "\t\t                  dtype = dataType,\\\n",
    "\t\t                  featurewise_std_normalization = featurewise_std_normalization,\\\n",
    "                          rotation_range = rotation_range)\n",
    "\n",
    "\n",
    "'PreProcessing Training Dataset'\n",
    "df_subtrn = dg_subtrn.flow_from_dataframe(dataframe = df_trn,\\\n",
    "\t\t\t\t  directory = inputDirectory,\\\n",
    "\t\t\t\t  x_col = xColName,\\\n",
    "\t\t\t\t  y_col = yColName,\\\n",
    "\t\t\t\t  batch_size = batch_size,\\\n",
    "\t\t\t\t  seed = seed,\\\n",
    "\t\t\t\t  shuffle = True,\\\n",
    "\t\t\t\t  color_mode = color_mode,\\\n",
    "\t\t\t\t  class_mode = class_mode,\\\n",
    "\t\t\t\t  target_size = reshapeSize,\\\n",
    "\t\t\t\t  has_ext = has_ext,\\\n",
    "\t\t\t\t  subset = 'training',\\\n",
    "\t\t\t\t  interpolation = interpolationMethod)#,\\\n",
    "                  #save_to_dir = outputDirectory)\n",
    "'PreProcessing Validation Dataset'\n",
    "df_val = dg_subtrn.flow_from_dataframe(dataframe = df_trn,\\\n",
    "\t\t\t\t\tdirectory = inputDirectory,\\\n",
    "\t\t\t\t\tx_col = xColName,\\\n",
    "\t\t\t\t\ty_col= yColName,\\\n",
    "\t\t\t\t\tbatch_size = batch_size,\\\n",
    "\t\t\t\t\tseed = seed,\\\n",
    "\t\t\t\t\tshuffle = True,\\\n",
    "\t\t\t\t\tcolor_mode = color_mode,\\\n",
    "\t\t\t\t\tclass_mode = class_mode,\\\n",
    "\t\t\t\t\ttarget_size = reshapeSize,\\\n",
    "\t\t\t\t\thas_ext = has_ext,\\\n",
    "\t\t\t\t\tsubset = 'validation',\\\n",
    "\t\t\t\t\tinterpolation = interpolationMethod)\n",
    "'PreProcessing Test Dataset '\n",
    "df_tst1 = dg_tst.flow_from_dataframe(dataframe = df_tst,\\\n",
    "\t\t\t\t\tdirectory=inputDirectory,\\\n",
    "\t\t\t\t\tx_col= xColName,\\\n",
    "\t\t\t\t\ty_col= yColName,\\\n",
    "\t\t\t\t\tbatch_size=batch_size,\\\n",
    "\t\t\t\t\tseed = seed,\\\n",
    "\t\t\t\t\tshuffle=shuffle,\\\n",
    "\t\t\t\t\thas_ext = has_ext,\\\n",
    "\t\t\t\t\tclass_mode=class_mode,\\\n",
    "\t\t\t\t\ttarget_size=reshapeSize,\\\n",
    "\t\t\t\t\tinterpolation = interpolationMethod)\n",
    "\n",
    "model = cnn1()\n",
    "\n",
    "#lr_reducer = ReduceLROnPlateau(factor=np.sqrt(0.1),\n",
    "#                               cooldown=0,\n",
    "#                               patience=5,\n",
    "#                               min_lr=0.5e-6)\n",
    "\n",
    "#checkpoint = ModelCheckpoint(filepath=filepath,\n",
    "#                             monitor = monitor,\n",
    "#                             verbose = verbose,\n",
    "#                             save_best_only = save_best_only) \n",
    "\n",
    "history = model.fit_generator(df_subtrn,\\\n",
    "                              steps_per_epoch = steps_per_epoch,\\\n",
    "                              epochs = epochs,\\\n",
    "                              validation_data = df_val,\\\n",
    "                              validation_steps = valStepsPerEpoch)#,\\\n",
    "                              #callbacks = callbacks)\n",
    "\n",
    "acc_tst = model.evaluate_generator(generator= df_tst1,\n",
    "\t\t\t\t                    steps= tstStepsPerEpoch)\n",
    "\t\t\t\n",
    "\n",
    "\n",
    "\n",
    "\n",
    "\n",
    "'#  \"Accuracy\" '\n",
    "fig = plt.gcf()\n",
    "fig.set_size_inches(17, 9)\n",
    "fig.show()\n",
    "plt.plot(history.history['acc'])\n",
    "plt.plot(history.history['val_acc'])\n",
    "plt.axhline(y=acc_tst[1], color='r', linestyle='--')\n",
    "# -- -- -- --\n",
    "plt.title('model accuracy')\n",
    "plt.ylabel('accuracy')\n",
    "plt.xlabel('epoch')\n",
    "plt.legend(['train', 'validation','test score'], loc='upper left')\n",
    "plt.show()\n",
    "# fig.savefig('test2png.png', dpi=100)\n",
    "\n",
    "'#  \"MAE\" '\n",
    "fig = plt.gcf()\n",
    "fig.set_size_inches(17, 9)\n",
    "fig.show()\n",
    "plt.plot(history.history['mean_absolute_error'])\n",
    "plt.plot(history.history['val_mean_absolute_error'])\n",
    "#plt.axhline(y=mae_tst[1], color='r', linestyle='--')\n",
    "# -- -- -- --\n",
    "plt.title('MAE')\n",
    "plt.ylabel('Error')\n",
    "plt.xlabel('epoch')\n",
    "plt.legend(['train', 'validation','test score'], loc='upper left')\n",
    "plt.show()\n",
    "\n",
    "# fig.savefig('test2png.png', dpi=100)"
   ]
  },
  {
   "cell_type": "code",
   "execution_count": null,
   "metadata": {
    "id": "1EzfhdL1LQti"
   },
   "outputs": [],
   "source": [
    "save_dir = os.path.join(os.getcwd(), '/AugmentedPics/rev1')\n",
    "if not os.path.isdir(save_dir):\n",
    "    os.makedirs(save_dir)"
   ]
  },
  {
   "cell_type": "markdown",
   "metadata": {
    "id": "xJMBU_W-J26x"
   },
   "source": [
    "# Visuals\n"
   ]
  },
  {
   "cell_type": "code",
   "execution_count": null,
   "metadata": {
    "id": "2i4SOHdCHdfb"
   },
   "outputs": [],
   "source": [
    "plot_model(model, to_file='./ResnetModel.png',\\\n",
    "\t   show_shapes=True,\\\n",
    "\t   show_layer_names=True,\\\n",
    "\t   rankdir='LR')\n",
    "# model.summary()"
   ]
  }
 ],
 "metadata": {
  "accelerator": "GPU",
  "colab": {
   "collapsed_sections": [],
   "name": "CNNRev2.ipynb",
   "provenance": []
  },
  "kernelspec": {
   "display_name": "Python 3",
   "language": "python",
   "name": "python3"
  },
  "language_info": {
   "codemirror_mode": {
    "name": "ipython",
    "version": 3
   },
   "file_extension": ".py",
   "mimetype": "text/x-python",
   "name": "python",
   "nbconvert_exporter": "python",
   "pygments_lexer": "ipython3",
   "version": "3.9.2"
  }
 },
 "nbformat": 4,
 "nbformat_minor": 4
}
