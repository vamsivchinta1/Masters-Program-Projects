{
  "nbformat": 4,
  "nbformat_minor": 0,
  "metadata": {
    "colab": {
      "name": "Neural Network Recommendation System - Implicit Feedback Factorization Model.ipynb",
      "provenance": [],
      "collapsed_sections": []
    },
    "kernelspec": {
      "name": "python3",
      "display_name": "Python 3"
    },
    "accelerator": "GPU"
  },
  "cells": [
    {
      "cell_type": "markdown",
      "metadata": {
        "id": "6Xa0sc7xicqM"
      },
      "source": [
        "# Hw3\n",
        "### Recommendation System Engine\n",
        "\n",
        "---\n",
        "\n",
        "\n",
        "\n",
        "---\n",
        "\n"
      ]
    },
    {
      "cell_type": "markdown",
      "metadata": {
        "id": "YsxZ0gxWekTB"
      },
      "source": [
        "Model information "
      ]
    },
    {
      "cell_type": "markdown",
      "metadata": {
        "id": "QL4uC82pfq5h"
      },
      "source": [
        "Implicit Feedback factorization Model\n",
        "\n",
        "> \n",
        "\n"
      ]
    },
    {
      "cell_type": "code",
      "metadata": {
        "id": "aRtgNHTmiWmH",
        "colab": {
          "base_uri": "https://localhost:8080/",
          "height": 54
        },
        "outputId": "f8516a00-2f14-4e6b-d5c9-001680200944"
      },
      "source": [
        "from google.colab import drive\n",
        "drive.mount('/content/gdrive')\n",
        "\n",
        "import os\n",
        "path = r'/content/gdrive/My Drive/Colab_Datasets'\n",
        "os.chdir(path)"
      ],
      "execution_count": null,
      "outputs": [
        {
          "output_type": "stream",
          "text": [
            "Drive already mounted at /content/gdrive; to attempt to forcibly remount, call drive.mount(\"/content/gdrive\", force_remount=True).\n"
          ],
          "name": "stdout"
        }
      ]
    },
    {
      "cell_type": "code",
      "metadata": {
        "id": "-c-MRxF6hGqd"
      },
      "source": [
        "!pip3 install torch===1.3.1 torchvision===0.4.2 -f https://download.pytorch.org/whl/torch_stable.html\n",
        "!pip install git+https://github.com/maciejkula/spotlight.git@master#egg=spotlight"
      ],
      "execution_count": null,
      "outputs": []
    },
    {
      "cell_type": "code",
      "metadata": {
        "id": "r95KVV9PiL0T"
      },
      "source": [
        "import pandas as pd\n",
        "import numpy as np\n",
        "\n",
        "from spotlight.cross_validation import random_train_test_split\n",
        "from spotlight.evaluation import rmse_score\n",
        "from spotlight.factorization.explicit import ExplicitFactorizationModel\n",
        "from spotlight.interactions import Interactions"
      ],
      "execution_count": null,
      "outputs": []
    },
    {
      "cell_type": "code",
      "metadata": {
        "id": "QuNlofv99d-m",
        "colab": {
          "base_uri": "https://localhost:8080/",
          "height": 79
        },
        "outputId": "ea97df8f-1de6-44d3-dbca-3c996a4a4bfc"
      },
      "source": [
        "df = pd.read_csv('DigitalMusic.csv')\n",
        "df.head()\n",
        "df1 = df[['reviewerID','asin','overall']]\n",
        "df1.head(1)\n",
        "# df1.isnull().sum()"
      ],
      "execution_count": null,
      "outputs": [
        {
          "output_type": "execute_result",
          "data": {
            "text/html": [
              "<div>\n",
              "<style scoped>\n",
              "    .dataframe tbody tr th:only-of-type {\n",
              "        vertical-align: middle;\n",
              "    }\n",
              "\n",
              "    .dataframe tbody tr th {\n",
              "        vertical-align: top;\n",
              "    }\n",
              "\n",
              "    .dataframe thead th {\n",
              "        text-align: right;\n",
              "    }\n",
              "</style>\n",
              "<table border=\"1\" class=\"dataframe\">\n",
              "  <thead>\n",
              "    <tr style=\"text-align: right;\">\n",
              "      <th></th>\n",
              "      <th>reviewerID</th>\n",
              "      <th>asin</th>\n",
              "      <th>overall</th>\n",
              "    </tr>\n",
              "  </thead>\n",
              "  <tbody>\n",
              "    <tr>\n",
              "      <th>0</th>\n",
              "      <td>A1UNS26W21A9C2</td>\n",
              "      <td>0001377647</td>\n",
              "      <td>5.0</td>\n",
              "    </tr>\n",
              "  </tbody>\n",
              "</table>\n",
              "</div>"
            ],
            "text/plain": [
              "       reviewerID        asin  overall\n",
              "0  A1UNS26W21A9C2  0001377647      5.0"
            ]
          },
          "metadata": {
            "tags": []
          },
          "execution_count": 4
        }
      ]
    },
    {
      "cell_type": "code",
      "metadata": {
        "id": "5w8oreZNyb5o"
      },
      "source": [
        "df.reviewerID = pd.Categorical(df.reviewerID)"
      ],
      "execution_count": null,
      "outputs": []
    },
    {
      "cell_type": "code",
      "metadata": {
        "id": "iNJ256pJyrYP"
      },
      "source": [
        "df['UserKey'] = df.reviewerID.cat.codes"
      ],
      "execution_count": null,
      "outputs": []
    },
    {
      "cell_type": "code",
      "metadata": {
        "id": "PrhrlTupy-dp"
      },
      "source": [
        "df.asin = pd.Categorical(df.asin)\n",
        "df['ProdKey'] = df.asin.cat.codes"
      ],
      "execution_count": null,
      "outputs": []
    },
    {
      "cell_type": "code",
      "metadata": {
        "id": "zz2SwdVCWQie",
        "colab": {
          "base_uri": "https://localhost:8080/",
          "height": 208
        },
        "outputId": "65a44365-10c3-4c7d-d60e-42b9b9d4439b"
      },
      "source": [
        "df.dtypes"
      ],
      "execution_count": null,
      "outputs": [
        {
          "output_type": "execute_result",
          "data": {
            "text/plain": [
              "overall          float64\n",
              "asin            category\n",
              "title             object\n",
              "brand             object\n",
              "also_buy          object\n",
              "reviewerID      category\n",
              "reviewerName      object\n",
              "reviewText        object\n",
              "UserKey            int32\n",
              "ProdKey            int32\n",
              "dtype: object"
            ]
          },
          "metadata": {
            "tags": []
          },
          "execution_count": 8
        }
      ]
    },
    {
      "cell_type": "code",
      "metadata": {
        "id": "ZWCR6XJUMva4"
      },
      "source": [
        "users = df.UserKey\n",
        "prods = df.ProdKey         \n",
        "ratings = df.overall        "
      ],
      "execution_count": null,
      "outputs": []
    },
    {
      "cell_type": "code",
      "metadata": {
        "id": "s3HsKwE-Vz2h"
      },
      "source": [
        "users1 = users.to_numpy(dtype=int)\n",
        "prods1 = prods.to_numpy(dtype=int)\n",
        "ratings1 = ratings.to_numpy(dtype=float)"
      ],
      "execution_count": null,
      "outputs": []
    },
    {
      "cell_type": "code",
      "metadata": {
        "id": "p8UXLxC5J2Gg"
      },
      "source": [
        "interaction = Interactions(users1,prods1,ratings1)"
      ],
      "execution_count": null,
      "outputs": []
    },
    {
      "cell_type": "code",
      "metadata": {
        "id": "TTvJdZIHzbv6",
        "colab": {
          "base_uri": "https://localhost:8080/",
          "height": 69
        },
        "outputId": "6dce948b-3b03-48c1-8b02-64b5af9ff443"
      },
      "source": [
        "train, test = random_train_test_split(interaction, random_state=np.random.RandomState(42))\n",
        "\n",
        "print('Split into \\n {} and \\n {}.'.format(train, test))"
      ],
      "execution_count": null,
      "outputs": [
        {
          "output_type": "stream",
          "text": [
            "Split into \n",
            " <Interactions dataset (840372 users x 456992 items x 1282084 interactions)> and \n",
            " <Interactions dataset (840372 users x 456992 items x 320522 interactions)>.\n"
          ],
          "name": "stdout"
        }
      ]
    },
    {
      "cell_type": "code",
      "metadata": {
        "id": "xJoBMtSg0E51",
        "colab": {
          "base_uri": "https://localhost:8080/",
          "height": 51
        },
        "outputId": "ef738809-fceb-4b8d-8350-06fcc1868999"
      },
      "source": [
        "starttime = datetime.now()\n",
        "model = ExplicitFactorizationModel(n_iter=1)\n",
        "model.fit(train, verbose=True)\n",
        "\n",
        "train_rmse = rmse_score(model, train)\n",
        "test_rmse = rmse_score(model, test)\n",
        "\n",
        "stoptime = datetime.now()\n",
        "runtime = stoptime - starttime\n",
        "print('Runtime:{}'.format(runtime))\n",
        "print('Split into \\n training dataset size: {} \\n testing dataset size: {}.'.format(train, test))\n",
        "print('Train RMSE {:.3f}, test RMSE {:.3f}'.format(train_rmse, test_rmse))"
      ],
      "execution_count": null,
      "outputs": [
        {
          "output_type": "stream",
          "text": [
            "Epoch 0: loss 13.321396990468127\n",
            "Train RMSE 2.291, test RMSE 2.998\n"
          ],
          "name": "stdout"
        }
      ]
    },
    {
      "cell_type": "code",
      "metadata": {
        "id": "vPFRhwYEkrq-"
      },
      "source": [
        "\n",
        "\n",
        "\n",
        "\n",
        "\n",
        "\n",
        "\n",
        "\n",
        "\n",
        "\n",
        "\n",
        "\n",
        "\n",
        "\n",
        "\n",
        "\n",
        "\n",
        "\n",
        "\n",
        "\n"
      ],
      "execution_count": null,
      "outputs": []
    },
    {
      "cell_type": "markdown",
      "metadata": {
        "id": "rf1sFgjhglNz"
      },
      "source": [
        "\n",
        "\n",
        "\n",
        "\n",
        "\n",
        "\n",
        "\n",
        "useful websites\n",
        "\n",
        "\n",
        "\n",
        "> https://github.com/maciejkula/spotlight/tree/master/examples/movielens_explicit\n",
        "\n",
        "\n",
        "> https://github.com/maciejkula/netrex/blob/master/examples/readme.nbconvert.ipynb\n",
        "\n",
        "> https://towardsdatascience.com/introduction-to-recommender-system-part-2-adoption-of-neural-network-831972c4cbf7\n",
        "\n",
        "\n",
        "> https://docs.scipy.org/doc/numpy/user/basics.types.html\n",
        "\n",
        "\n",
        "\n",
        "\n",
        "\n",
        "\n",
        "\n"
      ]
    },
    {
      "cell_type": "code",
      "metadata": {
        "id": "QXReL_gv0B-G"
      },
      "source": [
        ""
      ],
      "execution_count": null,
      "outputs": []
    }
  ]
}