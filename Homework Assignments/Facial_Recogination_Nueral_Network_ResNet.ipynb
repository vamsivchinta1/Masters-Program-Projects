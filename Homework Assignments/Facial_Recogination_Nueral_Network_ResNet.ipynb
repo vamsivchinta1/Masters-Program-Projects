{
  "nbformat": 4,
  "nbformat_minor": 0,
  "metadata": {
    "colab": {
      "name": "Facial Recogination Nueral Network -- ResNet.ipynb",
      "provenance": []
    },
    "kernelspec": {
      "name": "python3",
      "display_name": "Python 3"
    },
    "accelerator": "GPU"
  },
  "cells": [
    {
      "cell_type": "code",
      "metadata": {
        "id": "2S1uAQexAtfN",
        "colab": {
          "base_uri": "https://localhost:8080/",
          "height": 126
        },
        "outputId": "7d69ca65-bd72-4fca-edaf-e53db436f696"
      },
      "source": [
        "from google.colab import drive\n",
        "drive.mount('/content/gdrive')"
      ],
      "execution_count": null,
      "outputs": [
        {
          "output_type": "stream",
          "text": [
            "Go to this URL in a browser: https://accounts.google.com/o/oauth2/auth?client_id=947318989803-6bn6qk8qdgf4n4g3pfee6491hc0brc4i.apps.googleusercontent.com&redirect_uri=urn%3Aietf%3Awg%3Aoauth%3A2.0%3Aoob&scope=email%20https%3A%2F%2Fwww.googleapis.com%2Fauth%2Fdocs.test%20https%3A%2F%2Fwww.googleapis.com%2Fauth%2Fdrive%20https%3A%2F%2Fwww.googleapis.com%2Fauth%2Fdrive.photos.readonly%20https%3A%2F%2Fwww.googleapis.com%2Fauth%2Fpeopleapi.readonly&response_type=code\n",
            "\n",
            "Enter your authorization code:\n",
            "··········\n",
            "Mounted at /content/gdrive\n"
          ],
          "name": "stdout"
        }
      ]
    },
    {
      "cell_type": "code",
      "metadata": {
        "id": "2VnbX-0YBEk7"
      },
      "source": [
        "# \"\"\"\n",
        "# Vamsi Chinta\n",
        "# Machine Learning - Facial Recognition Project\n",
        "# ResNet\n",
        "# https://keras.io/examples/cifar10_resnet/\n",
        "# \"\"\"\n",
        "#%% Importing Libraries ######################################################'\n"
      ],
      "execution_count": null,
      "outputs": []
    },
    {
      "cell_type": "code",
      "metadata": {
        "id": "WIBExGwgBx0o"
      },
      "source": [
        "path \t\t\t= r'/content/gdrive/My Drive/Colab_Datasets'\n",
        "os.chdir(path)\n",
        "\n",
        "seed \t\t\t= 7\n",
        "np.random.seed(seed)\n",
        "\n",
        "save_dir = os.path.join(os.getcwd(), 'NueralNetworksSavedModels')\n",
        "if not os.path.isdir(save_dir):\n",
        "    os.makedirs(save_dir)\n",
        "    \n",
        "i \t\t\t= 0 #Revision Count"
      ],
      "execution_count": null,
      "outputs": []
    },
    {
      "cell_type": "code",
      "metadata": {
        "id": "klrcZaHsBu0n",
        "colab": {
          "base_uri": "https://localhost:8080/",
          "height": 35
        },
        "outputId": "aa00d61e-f4c3-44e2-9fab-e842d5f7df3d"
      },
      "source": [
        "from __future__ import print_function\n",
        "import keras\n",
        "from keras import backend as K\n",
        "from keras import layers, models\n",
        "from keras.layers import Dense, Conv2D, BatchNormalization, Activation, AveragePooling2D, Input, Flatten, Dropout\n",
        "from keras.layers import LSTM#, sequential\n",
        "from keras.optimizers import Adam\n",
        "from keras.callbacks import ModelCheckpoint, LearningRateScheduler, ReduceLROnPlateau\n",
        "from keras.preprocessing.image import ImageDataGenerator as ImgDataGen\n",
        "from keras.preprocessing.image import img_to_array, load_img\n",
        "from keras.regularizers import l2\n",
        "from keras.models import Model\n",
        "#-   -   -   -   -   -   -   -   -   -   -   -   -   -   -   -   -   -   -   -\n",
        "from keras.utils import to_categorical\n",
        "from keras.utils.vis_utils import plot_model\n",
        "from keras.wrappers.scikit_learn import KerasRegressor\n",
        "#-   -   -   -   -   -   -   -   -   -   -   -   -   -   -   -   -   -   -   -\n",
        "from sklearn.model_selection import ShuffleSplit, train_test_split\n",
        "#-   -   -   -   -   -   -   -   -   -   -   -   -   -   -   -   -   -   -   -\n",
        "import glob\n",
        "import cv2\n",
        "#-   -   -   -   -   -   -   -   -   -   -   -   -   -   -   -   -   -   -   -\n",
        "import pydot\n",
        "#-   -   -   -   -   -   -   -   -   -   -   -   -   -   -   -   -   -   -   -\n",
        "import matplotlib.pyplot as plt\n",
        "import h5py\n",
        "#-   -   -   -   -   -   -   -   -   -   -   -   -   -   -   -   -   -   -   -\n",
        "import warnings\n",
        "warnings.filterwarnings(\"ignore\")\n",
        "#-   -   -   -   -   -   -   -   -   -   -   -   -   -   -   -   -   -   -   -\n",
        "import os\n",
        "from os import listdir\n",
        "from os.path import isfile, join\n",
        "import pandas as pd\n",
        "import numpy as np\n",
        "from PIL import Image"
      ],
      "execution_count": null,
      "outputs": [
        {
          "output_type": "stream",
          "text": [
            "Using TensorFlow backend.\n"
          ],
          "name": "stderr"
        }
      ]
    },
    {
      "cell_type": "markdown",
      "metadata": {
        "id": "5c3-lngRDYBY"
      },
      "source": [
        "# Programme Code"
      ]
    },
    {
      "cell_type": "code",
      "metadata": {
        "id": "cGaEauZWDJ8l",
        "colab": {
          "base_uri": "https://localhost:8080/",
          "height": 35
        },
        "outputId": "8953d61d-4312-4923-9da4-60eb0dae21ef"
      },
      "source": [
        "'Dataset PreProcessing'\n",
        "df \t\t\t= pd.read_csv('Train_baseball.csv')\n",
        "df['Image_Name'] \t= df['Image_Name'] + '.jpg'\n",
        "'----'\n",
        "test_size \t\t    = 0.05\n",
        "validationSplit \t= 0.2\n",
        "df_trn, df_tst \t\t= train_test_split(df, test_size=test_size, random_state=seed)\n",
        "df_subtrn, df_val \t= train_test_split(df_trn, test_size=validationSplit, random_state=seed)\n",
        "'----'\n",
        "num_classes \t\t= 1\n",
        "target_feature \t\t= 'Trustworthy_Score'\n",
        "'Flow Parameters'\n",
        "img_height         \t= 128\n",
        "img_width          \t= 85\n",
        "img_channels \t\t= 3\n",
        "reshapeSize        \t= (img_height, img_width)\n",
        "input_shape \t\t= (img_height,img_width,img_channels)\n",
        "#cardinality \t\t= 32\n",
        "data_augmentation \t= True\n",
        "subtract_pixel_mean \t= True # Subtracting pixel mean improves accuracy\n",
        "'Generator Parameters'\n",
        "rescale \t\t    = (1./255.)\n",
        "normalization \t\t= True\n",
        "xColName               \t= 'Image_Name'\n",
        "yColName\t   \t= 'Trustworthy_Score' \t                                #'Competency_Score'\n",
        "batch_size \t\t= 32  \t                                                # orig paper trained all networks with batch_size=128\n",
        "interpolationMethod \t= 'nearest'                                             #Interpolation method used to resample the image if the target size is different from that of the loaded image.Supported methods are `\"nearest\"`, `\"bilinear\"`, and `\"bicubic\"`\n",
        "'----'\n",
        "dataType \t\t= 'float32'\n",
        "shuffle \t\t= True\n",
        "class_mode \t\t= 'other'\n",
        "inputDirectory     \t= './TrainPictures'\n",
        "outputDirectory    \t= './AugmentedPics/rev1'\n",
        "color_mode \t \t= \"rgb\"\n",
        "has_ext \t\t= False\n",
        "'Training parameters'\n",
        "n \t\t\t        = 3\n",
        "depth \t\t\t    = n * 9 + 2 # depth (int): number of core convolutional layers\n",
        "#version \t\t    = 2\n",
        "'Compiling Parameters'\n",
        "steps_per_epoch \t= df_subtrn.shape[0] // batch_size                         \n",
        "valStepsPerEpoch \t= df_val.shape[0] // batch_size\n",
        "loss \t\t\t    = 'mean_squared_error'\n",
        "preformanceMetric\t= 'accuracy'                                             #'mae  mean absolute error \t \t \t \t'accuracy'\n",
        "optimizer \t\t    = 'Adam(lr=lr_schedule(0))' #not automated, just a placeholder!\n",
        "'Fitting Parameters'\n",
        "epochs \t\t\t    = 20\n",
        "learning_rate \t\t= 0.002\n",
        "steps_per_epoch \t= df_subtrn.shape[0] // batch_size                         #'steps_per_epoch'\n",
        "valStepsPerEpoch \t= df_val.shape[0] // batch_size\n",
        "tstStepsPerEpoch \t= len(df_tst)\n",
        "'Residual Block Parameters'\n",
        "first_num_filters_in\t= 32 \n",
        "resBlockActivationFn \t= 'relu'\n",
        "denseActivationFn \t= 'linear'\n",
        "denseKernelInitializer \t= 'he_normal'\n",
        "'Residual Layers Parameters'\n",
        "resLayerFilterNo \t= 32\n",
        "resLayerKernelSize \t= 3\n",
        "resLayerStrides \t= 1\n",
        "resLayerActivation \t= 'relu'\n",
        "batch_normalization \t= True\n",
        "convLayerPadding \t= 'same'\n",
        "convKernelInitializer \t= 'he_normal' # https://keras.io/initializers/\n",
        "convKernelRegularizer \t= l2(1e-4)\n",
        "'Visuals'\n",
        "RevNo \t\t\t= i + 1\n",
        "model_type \t\t= 'ResNet_Rev %dv%d' % (RevNo, depth)\n",
        "print(model_type) \n",
        "monitor \t\t= 'val_acc'\n",
        "verbose \t\t= 1\n",
        "save_best_only \t\t= True\n",
        "model_name \t\t= 'ResNet_%s_model.{epoch:03d}.h5' % model_type\n",
        "filepath \t\t= os.path.join(save_dir, model_name)\n",
        "# model.summary()"
      ],
      "execution_count": null,
      "outputs": [
        {
          "output_type": "stream",
          "text": [
            "ResNet_Rev 1v29\n"
          ],
          "name": "stdout"
        }
      ]
    },
    {
      "cell_type": "code",
      "metadata": {
        "id": "pNBT5gvRIA0O",
        "colab": {
          "base_uri": "https://localhost:8080/",
          "height": 2572
        },
        "outputId": "f6a8a91c-561a-4c9a-b684-70a403e11558"
      },
      "source": [
        "'#%% configuring data-generators'\n",
        "# https://keras.io/preprocessing/image/\n",
        "dg_subtrn \t= ImgDataGen(rescale= rescale,\\\n",
        "\t\t\tvalidation_split= validationSplit,\\\n",
        "\t\t\tdtype = dataType,\\\n",
        "\t\t\tfeaturewise_std_normalization = normalization)\n",
        "dg_tst  \t= ImgDataGen(rescale= rescale,\\\n",
        "\t\t      dtype = dataType,\\\n",
        "\t\t      featurewise_std_normalization = normalization)\n",
        "\n",
        "'PreProcessing Training Dataset'\n",
        "df_subtrn = dg_subtrn.flow_from_dataframe(dataframe = df_trn,\\\n",
        "\t\t\t\t  directory = inputDirectory,\\\n",
        "\t\t\t\t  x_col = xColName,\\\n",
        "\t\t\t\t  y_col = yColName,\\\n",
        "\t\t\t\t  batch_size = batch_size,\\\n",
        "\t\t\t\t  seed = seed,\\\n",
        "\t\t\t\t  shuffle = True,\\\n",
        "\t\t\t\t  color_mode = color_mode,\\\n",
        "\t\t\t\t  class_mode = class_mode,\\\n",
        "\t\t\t\t  target_size = reshapeSize,\\\n",
        "\t\t\t\t  has_ext = has_ext,\\\n",
        "\t\t\t\t  subset = 'training',\\\n",
        "\t\t\t\t  interpolation = interpolationMethod)#,\\save_to_dir = outputDirectory)\n",
        "'PreProcessing Validation Dataset'\n",
        "df_val = dg_subtrn.flow_from_dataframe(dataframe = df_trn,\\\n",
        "\t\t\t\t\tdirectory = inputDirectory,\\\n",
        "\t\t\t\t\tx_col = xColName,\\\n",
        "\t\t\t\t\ty_col= yColName,\\\n",
        "\t\t\t\t\tbatch_size = batch_size,\\\n",
        "\t\t\t\t\tseed = seed,\\\n",
        "\t\t\t\t\tshuffle = True,\\\n",
        "\t\t\t\t\tcolor_mode = color_mode,\\\n",
        "\t\t\t\t\tclass_mode = class_mode,\\\n",
        "\t\t\t\t\ttarget_size = reshapeSize,\\\n",
        "\t\t\t\t\thas_ext = has_ext,\\\n",
        "\t\t\t\t\tsubset = 'validation',\\\n",
        "\t\t\t\t\tinterpolation = interpolationMethod)\n",
        "'PreProcessing Test Dataset '\n",
        "df_tst = dg_tst.flow_from_dataframe(dataframe = df_tst,\\\n",
        "\t\t\t\t\tdirectory=inputDirectory,\\\n",
        "\t\t\t\t\tx_col= xColName,\\\n",
        "\t\t\t\t\ty_col= yColName,\\\n",
        "\t\t\t\t\tbatch_size=batch_size,\\\n",
        "\t\t\t\t\tseed = seed,\\\n",
        "\t\t\t\t\tshuffle=shuffle,\\\n",
        "\t\t\t\t\thas_ext = has_ext,\\\n",
        "\t\t\t\t\tclass_mode=class_mode,\\\n",
        "\t\t\t\t\ttarget_size=reshapeSize,\\\n",
        "\t\t\t\t\tinterpolation = interpolationMethod)\n",
        "\n",
        "model = resnet_vv1(input_shape = input_shape,\\\n",
        "\t\t           depth = depth)\n",
        "\n",
        "model.compile(loss = loss,\\\n",
        "\t      optimizer = Adam(lr=lr_schedule(0)),\\\n",
        "\t      metrics = [preformanceMetric])\n",
        "\n",
        "history = model.fit_generator(df_subtrn,\\\n",
        "                              steps_per_epoch = steps_per_epoch,\\\n",
        "                              epochs = epochs,\\\n",
        "                              validation_data = df_val,\\\n",
        "                              validation_steps = valStepsPerEpoch)\n",
        "\n",
        "acc_tst = model.evaluate_generator(generator= df_tst,\n",
        "\t\t\t\t                    steps= tstStepsPerEpoch)\n",
        "\n",
        "'#  \"Accuracy\" '\n",
        "fig = plt.gcf()\n",
        "fig.set_size_inches(19.5, 11.5)\n",
        "fig.show()\n",
        "plt.plot(history.history['acc'])\n",
        "plt.plot(history.history['val_acc'])\n",
        "plt.axhline(y=acc_tst[1], color='r', linestyle='--')\n",
        "# -- -- -- --\n",
        "plt.title('model accuracy')\n",
        "plt.ylabel('accuracy')\n",
        "plt.xlabel('epoch')\n",
        "plt.legend(['train', 'validation','test score'], loc='upper left')\n",
        "plt.show()\n",
        "# fig.savefig('test2png.png', dpi=100)"
      ],
      "execution_count": null,
      "outputs": [
        {
          "output_type": "stream",
          "text": [
            "Found 561 images.\n",
            "Found 140 images.\n",
            "Found 37 images.\n",
            "Learning rate:  0.002\n",
            "Epoch 1/20\n",
            "Learning rate:  0.002\n",
            "19/19 [==============================] - 28s 1s/step - loss: 7.8675 - acc: 0.0961 - val_loss: 7.0092 - val_acc: 0.0703\n",
            "\n",
            "Epoch 00001: val_acc did not improve from 0.19444\n",
            "Epoch 2/20\n",
            "Learning rate:  0.002\n",
            "19/19 [==============================] - 8s 439ms/step - loss: 4.9974 - acc: 0.1054 - val_loss: 7.1960 - val_acc: 0.0926\n",
            "\n",
            "Epoch 00002: val_acc did not improve from 0.19444\n",
            "Epoch 3/20\n",
            "Learning rate:  0.002\n",
            "19/19 [==============================] - 8s 438ms/step - loss: 4.8119 - acc: 0.1180 - val_loss: 4.6523 - val_acc: 0.1019\n",
            "\n",
            "Epoch 00003: val_acc did not improve from 0.19444\n",
            "Epoch 4/20\n",
            "Learning rate:  0.002\n",
            "19/19 [==============================] - 8s 439ms/step - loss: 4.7773 - acc: 0.0985 - val_loss: 3.9864 - val_acc: 0.1574\n",
            "\n",
            "Epoch 00004: val_acc did not improve from 0.19444\n",
            "Epoch 5/20\n",
            "Learning rate:  0.002\n",
            "19/19 [==============================] - 8s 441ms/step - loss: 4.7053 - acc: 0.1211 - val_loss: 5.5831 - val_acc: 0.1111\n",
            "\n",
            "Epoch 00005: val_acc did not improve from 0.19444\n",
            "Epoch 6/20\n",
            "Learning rate:  0.002\n",
            "19/19 [==============================] - 8s 447ms/step - loss: 4.6471 - acc: 0.1095 - val_loss: 4.7977 - val_acc: 0.1016\n",
            "\n",
            "Epoch 00006: val_acc did not improve from 0.19444\n",
            "Epoch 7/20\n",
            "Learning rate:  0.002\n",
            "19/19 [==============================] - 8s 442ms/step - loss: 4.3284 - acc: 0.1126 - val_loss: 4.6479 - val_acc: 0.0926\n",
            "\n",
            "Epoch 00007: val_acc did not improve from 0.19444\n",
            "Epoch 8/20\n",
            "Learning rate:  0.002\n",
            "19/19 [==============================] - 8s 445ms/step - loss: 4.4098 - acc: 0.1199 - val_loss: 5.7955 - val_acc: 0.1296\n",
            "\n",
            "Epoch 00008: val_acc did not improve from 0.19444\n",
            "Epoch 9/20\n",
            "Learning rate:  0.002\n",
            "19/19 [==============================] - 8s 445ms/step - loss: 4.3386 - acc: 0.1051 - val_loss: 5.4066 - val_acc: 0.0926\n",
            "\n",
            "Epoch 00009: val_acc did not improve from 0.19444\n",
            "Epoch 10/20\n",
            "Learning rate:  0.002\n",
            "19/19 [==============================] - 9s 449ms/step - loss: 3.7508 - acc: 0.1103 - val_loss: 4.4755 - val_acc: 0.1296\n",
            "\n",
            "Epoch 00010: val_acc did not improve from 0.19444\n",
            "Epoch 11/20\n",
            "Learning rate:  0.002\n",
            "19/19 [==============================] - 9s 455ms/step - loss: 3.4416 - acc: 0.1559 - val_loss: 4.9705 - val_acc: 0.1406\n",
            "\n",
            "Epoch 00011: val_acc did not improve from 0.19444\n",
            "Epoch 12/20\n",
            "Learning rate:  0.002\n",
            "19/19 [==============================] - 9s 451ms/step - loss: 3.6478 - acc: 0.1460 - val_loss: 4.8903 - val_acc: 0.1389\n",
            "\n",
            "Epoch 00012: val_acc did not improve from 0.19444\n",
            "Epoch 13/20\n",
            "Learning rate:  0.002\n",
            "19/19 [==============================] - 9s 452ms/step - loss: 2.8431 - acc: 0.1875 - val_loss: 5.1606 - val_acc: 0.0926\n",
            "\n",
            "Epoch 00013: val_acc did not improve from 0.19444\n",
            "Epoch 14/20\n",
            "Learning rate:  0.002\n",
            "19/19 [==============================] - 9s 454ms/step - loss: 2.3902 - acc: 0.1998 - val_loss: 4.8096 - val_acc: 0.1111\n",
            "\n",
            "Epoch 00014: val_acc did not improve from 0.19444\n",
            "Epoch 15/20\n",
            "Learning rate:  0.002\n",
            "19/19 [==============================] - 9s 452ms/step - loss: 2.1577 - acc: 0.2311 - val_loss: 6.3043 - val_acc: 0.1019\n",
            "\n",
            "Epoch 00015: val_acc did not improve from 0.19444\n",
            "Epoch 16/20\n",
            "Learning rate:  0.002\n",
            "19/19 [==============================] - 9s 455ms/step - loss: 1.9471 - acc: 0.2610 - val_loss: 5.2862 - val_acc: 0.0859\n",
            "\n",
            "Epoch 00016: val_acc did not improve from 0.19444\n",
            "Epoch 17/20\n",
            "Learning rate:  0.002\n",
            "19/19 [==============================] - 9s 451ms/step - loss: 1.8388 - acc: 0.2739 - val_loss: 5.5733 - val_acc: 0.1111\n",
            "\n",
            "Epoch 00017: val_acc did not improve from 0.19444\n",
            "Epoch 18/20\n",
            "Learning rate:  0.002\n",
            "19/19 [==============================] - 8s 441ms/step - loss: 1.7261 - acc: 0.3156 - val_loss: 5.0857 - val_acc: 0.1667\n",
            "\n",
            "Epoch 00018: val_acc did not improve from 0.19444\n",
            "Epoch 19/20\n",
            "Learning rate:  0.002\n",
            "19/19 [==============================] - 9s 451ms/step - loss: 1.5680 - acc: 0.3472 - val_loss: 5.5033 - val_acc: 0.1019\n",
            "\n",
            "Epoch 00019: val_acc did not improve from 0.19444\n",
            "Epoch 20/20\n",
            "Learning rate:  0.002\n",
            "19/19 [==============================] - 9s 451ms/step - loss: 1.4544 - acc: 0.3604 - val_loss: 5.1209 - val_acc: 0.1389\n",
            "\n",
            "Epoch 00020: val_acc did not improve from 0.19444\n"
          ],
          "name": "stdout"
        },
        {
          "output_type": "display_data",
          "data": {
            "image/png": "[encoded data removed]",
            "text/plain": [
              "<Figure size 1404x828 with 1 Axes>"
            ]
          },
          "metadata": {
            "tags": []
          }
        }
      ]
    },
    {
      "cell_type": "code",
      "metadata": {
        "id": "-pFOTRudEa3U",
        "colab": {
          "base_uri": "https://localhost:8080/",
          "height": 426
        },
        "outputId": "87c03611-9eb5-462c-be3f-b64bf95ac3b0"
      },
      "source": [
        "def resnet_vv1(input_shape, depth, num_classes = num_classes):\n",
        "\t    if (depth - 2) % 9 != 0:\n",
        "\t\t    raise ValueError('depth should be 9n+2 (eg 56 or 110 in [b])')\n",
        "\t    \n",
        "\t    # Start model definition.\n",
        "\t    num_filters_in = first_num_filters_in\n",
        "\t    num_res_blocks = int((depth - 2) / 9)\n",
        "\t\n",
        "\t    inputs = Input(shape=input_shape)\n",
        "\t    # v2 performs Conv2D with BN-ReLU on input before splitting into 2 paths\n",
        "\t    x = resnet_layer(inputs=inputs,\n",
        "\t                     num_filters=num_filters_in,\n",
        "\t                     conv_first=True)\n",
        "\t\n",
        "\t    # Instantiate the stack of residual units\n",
        "\t    for stage in range(3):\n",
        "\t        for res_block in range(num_res_blocks):\n",
        "\t            activation = 'relu'\n",
        "\t            batch_normalization = True\n",
        "\t            strides = 1\n",
        "\t            if stage == 0:\n",
        "\t                num_filters_out = num_filters_in * 4\n",
        "\t                if res_block == 0:  \t \t \t \t \t# first layer and first stage\n",
        "\t                    activation = None\n",
        "\t                    batch_normalization = False\n",
        "\t            else:\n",
        "\t                num_filters_out = num_filters_in * 2\n",
        "\t                if res_block == 0:  # first layer but not first stage\n",
        "\t                    strides = 2    # downsample\n",
        "\t\n",
        "\t            # bottleneck residual unit\n",
        "\t            y = resnet_layer(inputs=x,\n",
        "\t                             num_filters=num_filters_in,\n",
        "\t                             kernel_size=1,\n",
        "\t                             strides=strides,\n",
        "\t                             activation=activation,\n",
        "\t                             batch_normalization=batch_normalization,\n",
        "\t                             conv_first=False)\n",
        "\t            y = resnet_layer(inputs= y,\n",
        "\t                             num_filters=num_filters_in,\n",
        "\t                             conv_first=False)\n",
        "\t            y = resnet_layer(inputs=y,\n",
        "\t                             num_filters=num_filters_out,\n",
        "\t                             kernel_size=1,\n",
        "\t                             conv_first=False)\n",
        "\t            if res_block == 0:\n",
        "\t                # linear projection residual shortcut connection to match\n",
        "\t                # changed dims\n",
        "\t                x = resnet_layer(inputs=x,\n",
        "\t                                 num_filters=num_filters_out,\n",
        "\t                                 kernel_size=1,\n",
        "\t                                 strides=strides,\n",
        "\t                                 activation=None,\n",
        "\t                                 batch_normalization=False)\n",
        "\t            x = keras.layers.add([x, y])\n",
        "\t\n",
        "\t        num_filters_in = num_filters_out\n",
        "\t\n",
        "\t    # Add classifier on top.\n",
        "\t    # v2 has BN-ReLU before Pooling\n",
        "\t    x = BatchNormalization()(x)\n",
        "\t    x = Activation('relu')(x)\n",
        "\t    x = AveragePooling2D(pool_size=8)(x)\n",
        "\t    y = Flatten()(x)\n",
        "\t    outputs = Dense(num_classes,\n",
        "\t                    activation \t\t\t= denseActivationFn,\n",
        "\t                    kernel_initializer \t\t= denseKernelInitializer)(y)\n",
        "\t\n",
        "\t    # Instantiate model.\n",
        "\t    model = Model(inputs=inputs, outputs=outputs)\n",
        "\t    return model\n",
        "\n",
        "    \n"
      ],
      "execution_count": null,
      "outputs": [
        {
          "output_type": "stream",
          "text": [
            "Learning rate:  0.005\n"
          ],
          "name": "stdout"
        },
        {
          "output_type": "error",
          "ename": "ValueError",
          "evalue": "ignored",
          "traceback": [
            "\u001b[0;31m---------------------------------------------------------------------------\u001b[0m",
            "\u001b[0;31mValueError\u001b[0m                                Traceback (most recent call last)",
            "\u001b[0;32m<ipython-input-45-c276c0108f51>\u001b[0m in \u001b[0;36m<module>\u001b[0;34m()\u001b[0m\n\u001b[1;32m     76\u001b[0m \u001b[0mmodel\u001b[0m\u001b[0;34m.\u001b[0m\u001b[0mcompile\u001b[0m\u001b[0;34m(\u001b[0m\u001b[0mloss\u001b[0m \u001b[0;34m=\u001b[0m \u001b[0mloss\u001b[0m\u001b[0;34m,\u001b[0m            \u001b[0moptimizer\u001b[0m \u001b[0;34m=\u001b[0m \u001b[0mAdam\u001b[0m\u001b[0;34m(\u001b[0m\u001b[0mlr\u001b[0m\u001b[0;34m=\u001b[0m\u001b[0mlr_schedule\u001b[0m\u001b[0;34m(\u001b[0m\u001b[0;36m0\u001b[0m\u001b[0;34m)\u001b[0m\u001b[0;34m)\u001b[0m\u001b[0;34m,\u001b[0m            \u001b[0mmetrics\u001b[0m \u001b[0;34m=\u001b[0m \u001b[0;34m[\u001b[0m\u001b[0mpreformanceMetric\u001b[0m\u001b[0;34m]\u001b[0m\u001b[0;34m)\u001b[0m\u001b[0;34m\u001b[0m\u001b[0;34m\u001b[0m\u001b[0m\n\u001b[1;32m     77\u001b[0m \u001b[0;34m\u001b[0m\u001b[0m\n\u001b[0;32m---> 78\u001b[0;31m \u001b[0mhistory\u001b[0m \u001b[0;34m=\u001b[0m \u001b[0mmodel\u001b[0m\u001b[0;34m.\u001b[0m\u001b[0mfit_generator\u001b[0m\u001b[0;34m(\u001b[0m\u001b[0mdf_subtrn\u001b[0m\u001b[0;34m,\u001b[0m                              \u001b[0msteps_per_epoch\u001b[0m \u001b[0;34m=\u001b[0m \u001b[0msteps_per_epoch\u001b[0m\u001b[0;34m,\u001b[0m                              \u001b[0mepochs\u001b[0m \u001b[0;34m=\u001b[0m \u001b[0mepochs\u001b[0m\u001b[0;34m,\u001b[0m                              \u001b[0mvalidation_data\u001b[0m \u001b[0;34m=\u001b[0m \u001b[0mdf_val\u001b[0m\u001b[0;34m,\u001b[0m                              \u001b[0mvalidation_steps\u001b[0m \u001b[0;34m=\u001b[0m \u001b[0mvalStepsPerEpoch\u001b[0m\u001b[0;34m,\u001b[0m                              \u001b[0mcallbacks\u001b[0m \u001b[0;34m=\u001b[0m \u001b[0mcallbacks\u001b[0m\u001b[0;34m)\u001b[0m\u001b[0;34m\u001b[0m\u001b[0;34m\u001b[0m\u001b[0m\n\u001b[0m\u001b[1;32m     79\u001b[0m \u001b[0;34m\u001b[0m\u001b[0m\n\u001b[1;32m     80\u001b[0m acc_tst = model.evaluate_generator(generator= df_tst,\n",
            "\u001b[0;32m/usr/local/lib/python3.6/dist-packages/keras/legacy/interfaces.py\u001b[0m in \u001b[0;36mwrapper\u001b[0;34m(*args, **kwargs)\u001b[0m\n\u001b[1;32m     89\u001b[0m                 warnings.warn('Update your `' + object_name + '` call to the ' +\n\u001b[1;32m     90\u001b[0m                               'Keras 2 API: ' + signature, stacklevel=2)\n\u001b[0;32m---> 91\u001b[0;31m             \u001b[0;32mreturn\u001b[0m \u001b[0mfunc\u001b[0m\u001b[0;34m(\u001b[0m\u001b[0;34m*\u001b[0m\u001b[0margs\u001b[0m\u001b[0;34m,\u001b[0m \u001b[0;34m**\u001b[0m\u001b[0mkwargs\u001b[0m\u001b[0;34m)\u001b[0m\u001b[0;34m\u001b[0m\u001b[0;34m\u001b[0m\u001b[0m\n\u001b[0m\u001b[1;32m     92\u001b[0m         \u001b[0mwrapper\u001b[0m\u001b[0;34m.\u001b[0m\u001b[0m_original_function\u001b[0m \u001b[0;34m=\u001b[0m \u001b[0mfunc\u001b[0m\u001b[0;34m\u001b[0m\u001b[0;34m\u001b[0m\u001b[0m\n\u001b[1;32m     93\u001b[0m         \u001b[0;32mreturn\u001b[0m \u001b[0mwrapper\u001b[0m\u001b[0;34m\u001b[0m\u001b[0;34m\u001b[0m\u001b[0m\n",
            "\u001b[0;32m/usr/local/lib/python3.6/dist-packages/keras/engine/training.py\u001b[0m in \u001b[0;36mfit_generator\u001b[0;34m(self, generator, steps_per_epoch, epochs, verbose, callbacks, validation_data, validation_steps, class_weight, max_queue_size, workers, use_multiprocessing, shuffle, initial_epoch)\u001b[0m\n\u001b[1;32m   1416\u001b[0m             \u001b[0muse_multiprocessing\u001b[0m\u001b[0;34m=\u001b[0m\u001b[0muse_multiprocessing\u001b[0m\u001b[0;34m,\u001b[0m\u001b[0;34m\u001b[0m\u001b[0;34m\u001b[0m\u001b[0m\n\u001b[1;32m   1417\u001b[0m             \u001b[0mshuffle\u001b[0m\u001b[0;34m=\u001b[0m\u001b[0mshuffle\u001b[0m\u001b[0;34m,\u001b[0m\u001b[0;34m\u001b[0m\u001b[0;34m\u001b[0m\u001b[0m\n\u001b[0;32m-> 1418\u001b[0;31m             initial_epoch=initial_epoch)\n\u001b[0m\u001b[1;32m   1419\u001b[0m \u001b[0;34m\u001b[0m\u001b[0m\n\u001b[1;32m   1420\u001b[0m     \u001b[0;34m@\u001b[0m\u001b[0minterfaces\u001b[0m\u001b[0;34m.\u001b[0m\u001b[0mlegacy_generator_methods_support\u001b[0m\u001b[0;34m\u001b[0m\u001b[0;34m\u001b[0m\u001b[0m\n",
            "\u001b[0;32m/usr/local/lib/python3.6/dist-packages/keras/engine/training_generator.py\u001b[0m in \u001b[0;36mfit_generator\u001b[0;34m(model, generator, steps_per_epoch, epochs, verbose, callbacks, validation_data, validation_steps, class_weight, max_queue_size, workers, use_multiprocessing, shuffle, initial_epoch)\u001b[0m\n\u001b[1;32m     37\u001b[0m     \u001b[0mepoch\u001b[0m \u001b[0;34m=\u001b[0m \u001b[0minitial_epoch\u001b[0m\u001b[0;34m\u001b[0m\u001b[0;34m\u001b[0m\u001b[0m\n\u001b[1;32m     38\u001b[0m \u001b[0;34m\u001b[0m\u001b[0m\n\u001b[0;32m---> 39\u001b[0;31m     \u001b[0mdo_validation\u001b[0m \u001b[0;34m=\u001b[0m \u001b[0mbool\u001b[0m\u001b[0;34m(\u001b[0m\u001b[0mvalidation_data\u001b[0m\u001b[0;34m)\u001b[0m\u001b[0;34m\u001b[0m\u001b[0;34m\u001b[0m\u001b[0m\n\u001b[0m\u001b[1;32m     40\u001b[0m     \u001b[0mmodel\u001b[0m\u001b[0;34m.\u001b[0m\u001b[0m_make_train_function\u001b[0m\u001b[0;34m(\u001b[0m\u001b[0;34m)\u001b[0m\u001b[0;34m\u001b[0m\u001b[0;34m\u001b[0m\u001b[0m\n\u001b[1;32m     41\u001b[0m     \u001b[0;32mif\u001b[0m \u001b[0mdo_validation\u001b[0m\u001b[0;34m:\u001b[0m\u001b[0;34m\u001b[0m\u001b[0;34m\u001b[0m\u001b[0m\n",
            "\u001b[0;32m/usr/local/lib/python3.6/dist-packages/pandas/core/generic.py\u001b[0m in \u001b[0;36m__nonzero__\u001b[0;34m(self)\u001b[0m\n\u001b[1;32m   1476\u001b[0m         raise ValueError(\"The truth value of a {0} is ambiguous. \"\n\u001b[1;32m   1477\u001b[0m                          \u001b[0;34m\"Use a.empty, a.bool(), a.item(), a.any() or a.all().\"\u001b[0m\u001b[0;34m\u001b[0m\u001b[0;34m\u001b[0m\u001b[0m\n\u001b[0;32m-> 1478\u001b[0;31m                          .format(self.__class__.__name__))\n\u001b[0m\u001b[1;32m   1479\u001b[0m \u001b[0;34m\u001b[0m\u001b[0m\n\u001b[1;32m   1480\u001b[0m     \u001b[0m__bool__\u001b[0m \u001b[0;34m=\u001b[0m \u001b[0m__nonzero__\u001b[0m\u001b[0;34m\u001b[0m\u001b[0;34m\u001b[0m\u001b[0m\n",
            "\u001b[0;31mValueError\u001b[0m: The truth value of a DataFrame is ambiguous. Use a.empty, a.bool(), a.item(), a.any() or a.all()."
          ]
        }
      ]
    },
    {
      "cell_type": "code",
      "metadata": {
        "id": "hVq_tTYiDhjJ"
      },
      "source": [
        "def lr_schedule(epoch):\n",
        "\n",
        "    lr = learning_rate\n",
        "    if epoch > 180:\n",
        "        lr *= 0.5e-3\n",
        "    elif epoch > 160:\n",
        "        lr *= 1e-3\n",
        "    elif epoch > 120:\n",
        "        lr *= 1e-2\n",
        "    elif epoch > 80:\n",
        "        lr *= 1e-1\n",
        "    print('Learning rate: ', lr)\n",
        "    return lr"
      ],
      "execution_count": null,
      "outputs": []
    },
    {
      "cell_type": "code",
      "metadata": {
        "id": "vsTOxI6MF4EJ"
      },
      "source": [
        "checkpoint = ModelCheckpoint(filepath=filepath,\n",
        "                             monitor = monitor,\n",
        "                             verbose = verbose,\n",
        "                             save_best_only = save_best_only) \t\t\t# Prepare callbacks for model saving and for learning rate adjustment.\n",
        "\n",
        "lr_scheduler = LearningRateScheduler(lr_schedule)\n",
        "\n",
        "lr_reducer = ReduceLROnPlateau(factor=np.sqrt(0.1),\n",
        "                               cooldown=0,\n",
        "                               patience=5,\n",
        "                               min_lr=0.5e-6)\n",
        "\n",
        "callbacks = [checkpoint, lr_reducer, lr_scheduler]"
      ],
      "execution_count": null,
      "outputs": []
    },
    {
      "cell_type": "code",
      "metadata": {
        "id": "sPbcNIx8EQch"
      },
      "source": [
        "def resnet_layer(inputs,\n",
        "                 num_filters = resLayerFilterNo,\n",
        "                 kernel_size = resLayerKernelSize,\n",
        "                 strides = resLayerStrides,\n",
        "                 activation = resLayerActivation,\n",
        "                 batch_normalization = batch_normalization,\n",
        "                 conv_first=True):\n",
        "\n",
        "    conv = Conv2D(num_filters,\n",
        "                  kernel_size=kernel_size,\n",
        "                  strides=strides,\n",
        "                  padding=convLayerPadding,\n",
        "                  kernel_initializer = convKernelInitializer,\n",
        "                  kernel_regularizer = convKernelRegularizer)\n",
        "\n",
        "    x = inputs\n",
        "    if conv_first:\n",
        "        x = conv(x)\n",
        "        if batch_normalization:\n",
        "            x = BatchNormalization()(x) \t# Adding Batchnorma\n",
        "        if activation is not None:\n",
        "            x = Activation(activation)(x)\n",
        "    else:\n",
        "        if batch_normalization:\n",
        "            x = BatchNormalization()(x)\n",
        "        if activation is not None:\n",
        "            x = Activation(activation)(x)\n",
        "        x = conv(x)\n",
        "    return x"
      ],
      "execution_count": null,
      "outputs": []
    },
    {
      "cell_type": "code",
      "metadata": {
        "id": "ZRk7wEuQHhNJ"
      },
      "source": [
        ""
      ],
      "execution_count": null,
      "outputs": []
    },
    {
      "cell_type": "markdown",
      "metadata": {
        "id": "xJMBU_W-J26x"
      },
      "source": [
        "# Visuals\n"
      ]
    },
    {
      "cell_type": "code",
      "metadata": {
        "id": "2i4SOHdCHdfb"
      },
      "source": [
        "plot_model(model, to_file='./ResnetModel.png',\\\n",
        "\t   show_shapes=True,\\\n",
        "\t   show_layer_names=True,\\\n",
        "\t   rankdir='LR')"
      ],
      "execution_count": null,
      "outputs": []
    },
    {
      "cell_type": "code",
      "metadata": {
        "id": "RtqeKxMAIN4F"
      },
      "source": [
        ""
      ],
      "execution_count": null,
      "outputs": []
    }
  ]
}