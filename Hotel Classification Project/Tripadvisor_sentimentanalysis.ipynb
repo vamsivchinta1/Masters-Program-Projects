{
 "cells": [
  {
   "cell_type": "code",
   "execution_count": 1,
   "metadata": {},
   "outputs": [
    {
     "name": "stderr",
     "output_type": "stream",
     "text": [
      "C:\\Users\\faraz\\Anaconda3\\lib\\site-packages\\nltk\\twitter\\__init__.py:20: UserWarning: The twython library has not been installed. Some functionality from the twitter package will not be available.\n",
      "  warnings.warn(\"The twython library has not been installed. \"\n"
     ]
    }
   ],
   "source": [
    "import nltk\n",
    "import pandas as pd\n",
    "from textblob import TextBlob\n",
    "from nltk.sentiment.vader import SentimentIntensityAnalyzer"
   ]
  },
  {
   "cell_type": "code",
   "execution_count": 2,
   "metadata": {},
   "outputs": [
    {
     "name": "stdout",
     "output_type": "stream",
     "text": [
      "(20016, 11)\n",
      "(17769, 11)\n"
     ]
    }
   ],
   "source": [
    "df1 = pd.read_excel('Tripadvisor_Dataset.xlsx')\n",
    "print(df1.shape)\n",
    "df1 = df1.dropna(subset=['Review Text'])\n",
    "print(df1.shape)"
   ]
  },
  {
   "cell_type": "code",
   "execution_count": 3,
   "metadata": {},
   "outputs": [],
   "source": [
    "df1.to_excel('Tripadvisor_Dataset_Filled.xlsx', index=False)"
   ]
  },
  {
   "cell_type": "code",
   "execution_count": 4,
   "metadata": {},
   "outputs": [
    {
     "data": {
      "text/html": [
       "<div>\n",
       "<style scoped>\n",
       "    .dataframe tbody tr th:only-of-type {\n",
       "        vertical-align: middle;\n",
       "    }\n",
       "\n",
       "    .dataframe tbody tr th {\n",
       "        vertical-align: top;\n",
       "    }\n",
       "\n",
       "    .dataframe thead th {\n",
       "        text-align: right;\n",
       "    }\n",
       "</style>\n",
       "<table border=\"1\" class=\"dataframe\">\n",
       "  <thead>\n",
       "    <tr style=\"text-align: right;\">\n",
       "      <th></th>\n",
       "      <th>Hotel Rating</th>\n",
       "      <th>Number of Contributions</th>\n",
       "      <th>Likes on Review</th>\n",
       "      <th>Review Rating</th>\n",
       "    </tr>\n",
       "  </thead>\n",
       "  <tbody>\n",
       "    <tr>\n",
       "      <th>count</th>\n",
       "      <td>17769.000000</td>\n",
       "      <td>17768.000000</td>\n",
       "      <td>17767.000000</td>\n",
       "      <td>17769.000000</td>\n",
       "    </tr>\n",
       "    <tr>\n",
       "      <th>mean</th>\n",
       "      <td>3.810794</td>\n",
       "      <td>39.092920</td>\n",
       "      <td>27.936005</td>\n",
       "      <td>3.840227</td>\n",
       "    </tr>\n",
       "    <tr>\n",
       "      <th>std</th>\n",
       "      <td>0.712553</td>\n",
       "      <td>97.499388</td>\n",
       "      <td>77.568205</td>\n",
       "      <td>1.344595</td>\n",
       "    </tr>\n",
       "    <tr>\n",
       "      <th>min</th>\n",
       "      <td>1.500000</td>\n",
       "      <td>1.000000</td>\n",
       "      <td>1.000000</td>\n",
       "      <td>1.000000</td>\n",
       "    </tr>\n",
       "    <tr>\n",
       "      <th>25%</th>\n",
       "      <td>3.500000</td>\n",
       "      <td>1.000000</td>\n",
       "      <td>2.000000</td>\n",
       "      <td>3.000000</td>\n",
       "    </tr>\n",
       "    <tr>\n",
       "      <th>50%</th>\n",
       "      <td>4.000000</td>\n",
       "      <td>6.000000</td>\n",
       "      <td>7.000000</td>\n",
       "      <td>4.000000</td>\n",
       "    </tr>\n",
       "    <tr>\n",
       "      <th>75%</th>\n",
       "      <td>4.500000</td>\n",
       "      <td>37.000000</td>\n",
       "      <td>27.000000</td>\n",
       "      <td>5.000000</td>\n",
       "    </tr>\n",
       "    <tr>\n",
       "      <th>max</th>\n",
       "      <td>5.000000</td>\n",
       "      <td>3388.000000</td>\n",
       "      <td>4818.000000</td>\n",
       "      <td>5.000000</td>\n",
       "    </tr>\n",
       "  </tbody>\n",
       "</table>\n",
       "</div>"
      ],
      "text/plain": [
       "       Hotel Rating  Number of Contributions  Likes on Review  Review Rating\n",
       "count  17769.000000             17768.000000     17767.000000   17769.000000\n",
       "mean       3.810794                39.092920        27.936005       3.840227\n",
       "std        0.712553                97.499388        77.568205       1.344595\n",
       "min        1.500000                 1.000000         1.000000       1.000000\n",
       "25%        3.500000                 1.000000         2.000000       3.000000\n",
       "50%        4.000000                 6.000000         7.000000       4.000000\n",
       "75%        4.500000                37.000000        27.000000       5.000000\n",
       "max        5.000000              3388.000000      4818.000000       5.000000"
      ]
     },
     "execution_count": 4,
     "metadata": {},
     "output_type": "execute_result"
    }
   ],
   "source": [
    "df1 = pd.read_excel('Tripadvisor_Dataset_Filled.xlsx')\n",
    "df1.describe()"
   ]
  },
  {
   "cell_type": "code",
   "execution_count": 5,
   "metadata": {},
   "outputs": [
    {
     "data": {
      "text/html": [
       "<div>\n",
       "<style scoped>\n",
       "    .dataframe tbody tr th:only-of-type {\n",
       "        vertical-align: middle;\n",
       "    }\n",
       "\n",
       "    .dataframe tbody tr th {\n",
       "        vertical-align: top;\n",
       "    }\n",
       "\n",
       "    .dataframe thead tr th {\n",
       "        text-align: left;\n",
       "    }\n",
       "\n",
       "    .dataframe thead tr:last-of-type th {\n",
       "        text-align: right;\n",
       "    }\n",
       "</style>\n",
       "<table border=\"1\" class=\"dataframe\">\n",
       "  <thead>\n",
       "    <tr>\n",
       "      <th></th>\n",
       "      <th colspan=\"8\" halign=\"left\">Hotel Rating</th>\n",
       "      <th colspan=\"5\" halign=\"left\">Likes on Review</th>\n",
       "      <th colspan=\"8\" halign=\"left\">Number of Contributions</th>\n",
       "    </tr>\n",
       "    <tr>\n",
       "      <th></th>\n",
       "      <th>count</th>\n",
       "      <th>mean</th>\n",
       "      <th>std</th>\n",
       "      <th>min</th>\n",
       "      <th>25%</th>\n",
       "      <th>50%</th>\n",
       "      <th>75%</th>\n",
       "      <th>max</th>\n",
       "      <th>count</th>\n",
       "      <th>mean</th>\n",
       "      <th>...</th>\n",
       "      <th>75%</th>\n",
       "      <th>max</th>\n",
       "      <th>count</th>\n",
       "      <th>mean</th>\n",
       "      <th>std</th>\n",
       "      <th>min</th>\n",
       "      <th>25%</th>\n",
       "      <th>50%</th>\n",
       "      <th>75%</th>\n",
       "      <th>max</th>\n",
       "    </tr>\n",
       "    <tr>\n",
       "      <th>Review Rating</th>\n",
       "      <th></th>\n",
       "      <th></th>\n",
       "      <th></th>\n",
       "      <th></th>\n",
       "      <th></th>\n",
       "      <th></th>\n",
       "      <th></th>\n",
       "      <th></th>\n",
       "      <th></th>\n",
       "      <th></th>\n",
       "      <th></th>\n",
       "      <th></th>\n",
       "      <th></th>\n",
       "      <th></th>\n",
       "      <th></th>\n",
       "      <th></th>\n",
       "      <th></th>\n",
       "      <th></th>\n",
       "      <th></th>\n",
       "      <th></th>\n",
       "      <th></th>\n",
       "    </tr>\n",
       "  </thead>\n",
       "  <tbody>\n",
       "    <tr>\n",
       "      <th>1</th>\n",
       "      <td>1841.0</td>\n",
       "      <td>3.028517</td>\n",
       "      <td>0.828911</td>\n",
       "      <td>1.5</td>\n",
       "      <td>2.5</td>\n",
       "      <td>3.0</td>\n",
       "      <td>4.0</td>\n",
       "      <td>5.0</td>\n",
       "      <td>1841.0</td>\n",
       "      <td>16.529603</td>\n",
       "      <td>...</td>\n",
       "      <td>11.0</td>\n",
       "      <td>1068.0</td>\n",
       "      <td>1841.0</td>\n",
       "      <td>16.953829</td>\n",
       "      <td>64.702098</td>\n",
       "      <td>1.0</td>\n",
       "      <td>1.0</td>\n",
       "      <td>2.0</td>\n",
       "      <td>9.0</td>\n",
       "      <td>1343.0</td>\n",
       "    </tr>\n",
       "    <tr>\n",
       "      <th>2</th>\n",
       "      <td>1462.0</td>\n",
       "      <td>3.402873</td>\n",
       "      <td>0.733807</td>\n",
       "      <td>1.5</td>\n",
       "      <td>2.5</td>\n",
       "      <td>3.5</td>\n",
       "      <td>4.0</td>\n",
       "      <td>5.0</td>\n",
       "      <td>1462.0</td>\n",
       "      <td>24.811902</td>\n",
       "      <td>...</td>\n",
       "      <td>24.0</td>\n",
       "      <td>1616.0</td>\n",
       "      <td>1462.0</td>\n",
       "      <td>33.654583</td>\n",
       "      <td>90.075140</td>\n",
       "      <td>1.0</td>\n",
       "      <td>1.0</td>\n",
       "      <td>4.0</td>\n",
       "      <td>27.0</td>\n",
       "      <td>1233.0</td>\n",
       "    </tr>\n",
       "    <tr>\n",
       "      <th>3</th>\n",
       "      <td>2276.0</td>\n",
       "      <td>3.591169</td>\n",
       "      <td>0.697352</td>\n",
       "      <td>1.5</td>\n",
       "      <td>3.0</td>\n",
       "      <td>4.0</td>\n",
       "      <td>4.0</td>\n",
       "      <td>5.0</td>\n",
       "      <td>2276.0</td>\n",
       "      <td>31.680580</td>\n",
       "      <td>...</td>\n",
       "      <td>32.0</td>\n",
       "      <td>1274.0</td>\n",
       "      <td>2276.0</td>\n",
       "      <td>50.653779</td>\n",
       "      <td>111.022863</td>\n",
       "      <td>1.0</td>\n",
       "      <td>2.0</td>\n",
       "      <td>14.0</td>\n",
       "      <td>56.0</td>\n",
       "      <td>1776.0</td>\n",
       "    </tr>\n",
       "    <tr>\n",
       "      <th>4</th>\n",
       "      <td>4306.0</td>\n",
       "      <td>3.891663</td>\n",
       "      <td>0.579801</td>\n",
       "      <td>1.5</td>\n",
       "      <td>3.5</td>\n",
       "      <td>4.0</td>\n",
       "      <td>4.5</td>\n",
       "      <td>5.0</td>\n",
       "      <td>4304.0</td>\n",
       "      <td>35.548095</td>\n",
       "      <td>...</td>\n",
       "      <td>38.0</td>\n",
       "      <td>4818.0</td>\n",
       "      <td>4305.0</td>\n",
       "      <td>59.411614</td>\n",
       "      <td>129.612934</td>\n",
       "      <td>1.0</td>\n",
       "      <td>2.0</td>\n",
       "      <td>17.0</td>\n",
       "      <td>63.0</td>\n",
       "      <td>3388.0</td>\n",
       "    </tr>\n",
       "    <tr>\n",
       "      <th>5</th>\n",
       "      <td>7884.0</td>\n",
       "      <td>4.088343</td>\n",
       "      <td>0.540356</td>\n",
       "      <td>1.5</td>\n",
       "      <td>4.0</td>\n",
       "      <td>4.0</td>\n",
       "      <td>4.5</td>\n",
       "      <td>5.0</td>\n",
       "      <td>7884.0</td>\n",
       "      <td>25.942288</td>\n",
       "      <td>...</td>\n",
       "      <td>24.0</td>\n",
       "      <td>3107.0</td>\n",
       "      <td>7884.0</td>\n",
       "      <td>30.838787</td>\n",
       "      <td>75.912550</td>\n",
       "      <td>1.0</td>\n",
       "      <td>1.0</td>\n",
       "      <td>4.0</td>\n",
       "      <td>27.0</td>\n",
       "      <td>1343.0</td>\n",
       "    </tr>\n",
       "  </tbody>\n",
       "</table>\n",
       "<p>5 rows × 24 columns</p>\n",
       "</div>"
      ],
      "text/plain": [
       "              Hotel Rating                                               \\\n",
       "                     count      mean       std  min  25%  50%  75%  max   \n",
       "Review Rating                                                             \n",
       "1                   1841.0  3.028517  0.828911  1.5  2.5  3.0  4.0  5.0   \n",
       "2                   1462.0  3.402873  0.733807  1.5  2.5  3.5  4.0  5.0   \n",
       "3                   2276.0  3.591169  0.697352  1.5  3.0  4.0  4.0  5.0   \n",
       "4                   4306.0  3.891663  0.579801  1.5  3.5  4.0  4.5  5.0   \n",
       "5                   7884.0  4.088343  0.540356  1.5  4.0  4.0  4.5  5.0   \n",
       "\n",
       "              Likes on Review              ...                  \\\n",
       "                        count       mean   ...     75%     max   \n",
       "Review Rating                              ...                   \n",
       "1                      1841.0  16.529603   ...    11.0  1068.0   \n",
       "2                      1462.0  24.811902   ...    24.0  1616.0   \n",
       "3                      2276.0  31.680580   ...    32.0  1274.0   \n",
       "4                      4304.0  35.548095   ...    38.0  4818.0   \n",
       "5                      7884.0  25.942288   ...    24.0  3107.0   \n",
       "\n",
       "              Number of Contributions                                         \\\n",
       "                                count       mean         std  min  25%   50%   \n",
       "Review Rating                                                                  \n",
       "1                              1841.0  16.953829   64.702098  1.0  1.0   2.0   \n",
       "2                              1462.0  33.654583   90.075140  1.0  1.0   4.0   \n",
       "3                              2276.0  50.653779  111.022863  1.0  2.0  14.0   \n",
       "4                              4305.0  59.411614  129.612934  1.0  2.0  17.0   \n",
       "5                              7884.0  30.838787   75.912550  1.0  1.0   4.0   \n",
       "\n",
       "                             \n",
       "                75%     max  \n",
       "Review Rating                \n",
       "1               9.0  1343.0  \n",
       "2              27.0  1233.0  \n",
       "3              56.0  1776.0  \n",
       "4              63.0  3388.0  \n",
       "5              27.0  1343.0  \n",
       "\n",
       "[5 rows x 24 columns]"
      ]
     },
     "execution_count": 5,
     "metadata": {},
     "output_type": "execute_result"
    }
   ],
   "source": [
    "df1.groupby('Review Rating').describe()"
   ]
  },
  {
   "cell_type": "code",
   "execution_count": 6,
   "metadata": {},
   "outputs": [],
   "source": [
    "authentic_df = df1[df1['Likes on Review'] > 1]"
   ]
  },
  {
   "cell_type": "code",
   "execution_count": 7,
   "metadata": {},
   "outputs": [],
   "source": [
    "df_review = list(authentic_df['Review Text'].values)"
   ]
  },
  {
   "cell_type": "code",
   "execution_count": 8,
   "metadata": {},
   "outputs": [],
   "source": [
    "scores_vadar = []\n",
    "scores_textblob = []\n",
    "\n",
    "sid = SentimentIntensityAnalyzer()\n",
    "for review in df_review:\n",
    "    ss = sid.polarity_scores(str(review))\n",
    "    tb = TextBlob(str(review))\n",
    "    snt = tb.sentiment.polarity\n",
    "    scores_vadar.append((str(review), ss['compound']))\n",
    "    scores_textblob.append((str(review), snt))\n",
    "authentic_df_scores = pd.DataFrame(scores_vadar, columns=['Review Text', 'Score_Vadar'])\n",
    "scores_tb = pd.DataFrame(scores_textblob, columns=['Review Text', 'Score_Textblob'])\n",
    "\n",
    "# authentic_df_scores.to_csv('Sentiment_scores_authentic.csv', index=False)"
   ]
  },
  {
   "cell_type": "code",
   "execution_count": 13,
   "metadata": {},
   "outputs": [],
   "source": [
    "left = authentic_df.set_index('Review Text')\n",
    "right = authentic_df_scores.set_index('Review Text')\n",
    "result = left.join(right)\n",
    "\n",
    "another = scores_tb.set_index('Review Text')\n",
    "\n",
    "result = result.join(another)\n",
    "result = result.dropna(subset=['Score_Vadar'])\n",
    "result = result.dropna(subset=['Score_Textblob'])\n"
   ]
  },
  {
   "cell_type": "code",
   "execution_count": 14,
   "metadata": {},
   "outputs": [],
   "source": [
    "result['Vador_Sentiment'] = ''\n",
    "for i, row in result.iterrows():\n",
    "    if row['Score_Vadar'] > 0:\n",
    "        result.loc[i,'Vador_Sentiment'] = 'Good'\n",
    "    elif row['Score_Vadar'] == 0:\n",
    "        result.loc[i,'Vador_Sentiment'] = 'Neutral'\n",
    "    elif row['Score_Vadar'] < 0:\n",
    "        result.loc[i,'Vador_Sentiment'] = 'Bad'"
   ]
  },
  {
   "cell_type": "code",
   "execution_count": 15,
   "metadata": {},
   "outputs": [],
   "source": [
    "result['Textblob_Sentiment'] = ''\n",
    "for i, row in result.iterrows():\n",
    "    if row['Score_Textblob'] > 0:\n",
    "        result.loc[i,'Textblob_Sentiment'] = 'Good'\n",
    "    elif row['Score_Textblob'] == 0:\n",
    "        result.loc[i,'Textblob_Sentiment'] = 'Neutral'\n",
    "    elif row['Score_Textblob'] < 0:\n",
    "        result.loc[i,'Textblob_Sentiment'] = 'Bad'"
   ]
  },
  {
   "cell_type": "code",
   "execution_count": 16,
   "metadata": {},
   "outputs": [],
   "source": [
    "result['Actual_Sentiment'] = ''\n",
    "for i, row in result.iterrows():\n",
    "    if row['Review Rating'] in [3,4,5]:\n",
    "        result.loc[i,'Actual_Sentiment'] = 'Good'\n",
    "    elif row['Review Rating'] == 2:\n",
    "        result.loc[i,'Actual_Sentiment'] = 'Noise'\n",
    "    else:\n",
    "        result.loc[i,'Actual_Sentiment'] = 'Bad'\n"
   ]
  },
  {
   "cell_type": "code",
   "execution_count": 17,
   "metadata": {},
   "outputs": [],
   "source": [
    "result.to_excel('Dataset_with_actual_and_predicted_labels.xlsx')"
   ]
  },
  {
   "cell_type": "code",
   "execution_count": 18,
   "metadata": {},
   "outputs": [
    {
     "name": "stdout",
     "output_type": "stream",
     "text": [
      "Textblob Accuracy:  83.60565159049649\n",
      "Vader Accuracy:  88.33372799747416\n"
     ]
    }
   ],
   "source": [
    "vadar_correct_predictions = 0\n",
    "textblob_correct_predictions = 0\n",
    "total_predictions = 0\n",
    "for i, row in result.iterrows():\n",
    "    if row['Actual_Sentiment'] == 'Good' and row['Textblob_Sentiment'] == 'Good':\n",
    "        textblob_correct_predictions += 1\n",
    "    elif row['Actual_Sentiment'] == 'Good' and row['Textblob_Sentiment'] == 'Good':\n",
    "        textblob_correct_predictions += 1\n",
    "        \n",
    "    if row['Actual_Sentiment'] == 'Good' and row['Vador_Sentiment'] == 'Good':\n",
    "        vadar_correct_predictions += 1\n",
    "    elif row['Actual_Sentiment'] == 'Bad' and row['Vador_Sentiment'] == 'Bad':\n",
    "        vadar_correct_predictions += 1\n",
    "        \n",
    "    if row['Actual_Sentiment'] == 'Good' or row['Actual_Sentiment'] == 'Bad':\n",
    "        total_predictions += 1\n",
    "\n",
    "textblob_accuracy = (textblob_correct_predictions/total_predictions)*100\n",
    "print('Textblob Accuracy: ', textblob_accuracy)\n",
    "vadar_accuracy = (vadar_correct_predictions/total_predictions)*100\n",
    "print('Vader Accuracy: ', vadar_accuracy)"
   ]
  },
  {
   "cell_type": "code",
   "execution_count": 19,
   "metadata": {},
   "outputs": [],
   "source": [
    "temp_df = result.groupby('Name').describe()\n",
    "temp_df\n",
    "\n",
    "temp_df.to_csv('Data Quality Report.csv')"
   ]
  },
  {
   "cell_type": "code",
   "execution_count": 20,
   "metadata": {},
   "outputs": [
    {
     "name": "stdout",
     "output_type": "stream",
     "text": [
      "Evaluation metrics for Vader:\n",
      "Precision:  0.96\n",
      "Recall:  0.945\n",
      "F1 score(Harmonic Mean):  0.953\n"
     ]
    }
   ],
   "source": [
    "#precision = tp/tp+fp where fp is comments incorrectly classified as 'Good'\n",
    "#recall = tp/tp+fn where fn is comments incorrectly classified as not 'Good'(Bad)\n",
    "true_positives = 0\n",
    "false_positives = 0\n",
    "false_negatives = 0\n",
    "\n",
    "for i, row in result.iterrows():\n",
    "    if row['Actual_Sentiment'] == 'Good' and row['Vador_Sentiment'] == 'Good':\n",
    "        true_positives += 1\n",
    "    if row['Actual_Sentiment'] == 'Bad' and row['Vador_Sentiment'] == 'Good':\n",
    "        false_positives += 1\n",
    "    if row['Actual_Sentiment'] == 'Good' and row['Vador_Sentiment'] == 'Bad':\n",
    "        false_negatives += 1\n",
    "\n",
    "precision = true_positives/(true_positives+false_positives)\n",
    "recall = true_positives/(true_positives+false_negatives)\n",
    "\n",
    "F_score = 2*((precision*recall)/(precision+recall))\n",
    "\n",
    "print('Evaluation metrics for Vader:')\n",
    "print('Precision: ', round(precision, 3))\n",
    "print('Recall: ', round(recall, 3))\n",
    "print('F1 score(Harmonic Mean): ', round(F_score, 3))"
   ]
  },
  {
   "cell_type": "code",
   "execution_count": 21,
   "metadata": {},
   "outputs": [
    {
     "name": "stdout",
     "output_type": "stream",
     "text": [
      "Evaluation metrics for Textblob:\n",
      "Precision:  0.954\n",
      "Recall:  0.957\n",
      "F1 score(Harmonic Mean):  0.955\n"
     ]
    }
   ],
   "source": [
    "#precision = tp/tp+fp where fp is comments incorrectly classified as 'Good'\n",
    "#recall = tp/tp+fn where fn is comments incorrectly classified as not 'Good'(Bad)\n",
    "true_positives = 0\n",
    "false_positives = 0\n",
    "false_negatives = 0\n",
    "\n",
    "for i, row in result.iterrows():\n",
    "    if row['Actual_Sentiment'] == 'Good' and row['Textblob_Sentiment'] == 'Good':\n",
    "        true_positives += 1\n",
    "    if row['Actual_Sentiment'] == 'Bad' and row['Textblob_Sentiment'] == 'Good':\n",
    "        false_positives += 1\n",
    "    if row['Actual_Sentiment'] == 'Good' and row['Textblob_Sentiment'] == 'Bad':\n",
    "        false_negatives += 1\n",
    "\n",
    "precision = true_positives/(true_positives+false_positives)\n",
    "recall = true_positives/(true_positives+false_negatives)\n",
    "\n",
    "F_score = 2*((precision*recall)/(precision+recall))\n",
    "\n",
    "print('Evaluation metrics for Textblob:')\n",
    "print('Precision: ', round(precision, 3))\n",
    "print('Recall: ', round(recall, 3))\n",
    "print('F1 score(Harmonic Mean): ', round(F_score, 3))"
   ]
  },
  {
   "cell_type": "code",
   "execution_count": 22,
   "metadata": {},
   "outputs": [
    {
     "data": {
      "text/plain": [
       "0.9550516207565033"
      ]
     },
     "execution_count": 22,
     "metadata": {},
     "output_type": "execute_result"
    }
   ],
   "source": [
    "F_score = 2*((precision*recall)/(precision+recall))\n",
    "F_score"
   ]
  }
 ],
 "metadata": {
  "kernelspec": {
   "display_name": "Python 3",
   "language": "python",
   "name": "python3"
  },
  "language_info": {
   "codemirror_mode": {
    "name": "ipython",
    "version": 3
   },
   "file_extension": ".py",
   "mimetype": "text/x-python",
   "name": "python",
   "nbconvert_exporter": "python",
   "pygments_lexer": "ipython3",
   "version": "3.6.5"
  }
 },
 "nbformat": 4,
 "nbformat_minor": 2
}
